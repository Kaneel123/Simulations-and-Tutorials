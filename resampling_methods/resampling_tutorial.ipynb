{
 "cells": [
  {
   "cell_type": "markdown",
   "metadata": {},
   "source": [
    "# Short Tutorial on Resampling Methods"
   ]
  },
  {
   "cell_type": "markdown",
   "metadata": {},
   "source": [
    "We'll first go over bootstrapping, taking a classic example from the Efron and Tibshirani book, \"An Introduction to the Bootstrap\". This example has been adapted from an excellent series of lectures that goes in depth with the theory and application of resampling methods and much much more: http://www.cns.nyu.edu/~eero/math-tools/."
   ]
  },
  {
   "cell_type": "markdown",
   "metadata": {},
   "source": [
    "__Research question__: Does taking aspirin reduce your risk of heart attack? These are data from a famous study done back in the 80s."
   ]
  },
  {
   "cell_type": "code",
   "execution_count": 54,
   "metadata": {},
   "outputs": [],
   "source": [
    "# Since this is Python, we first have to import our libraries\n",
    "import numpy as np\n",
    "import matplotlib.pyplot as plt\n",
    "import pandas as pd"
   ]
  },
  {
   "cell_type": "code",
   "execution_count": 61,
   "metadata": {},
   "outputs": [],
   "source": [
    "# Let's create our data\n",
    "num_aspirin = 11037 # total number of participants taking aspirin\n",
    "num_aspirin_ha = 104 # number of aspirin takers who ended up having a heart attack\n",
    "num_placebo = 11034 # total number of participants on a placebo\n",
    "num_placebo_ha = 189 #number of placebo takers who had a heart attack\n",
    "empirical_ratio = (num_aspirin_ha/num_aspirin)/(num_placebo_ha/num_placebo) #experimentally observed ratio of HAs in Aspirin vs Placebo groups (i.e., Experimental Results)\n",
    "num_samples = 100000 # number of times to resample (you can play around with this value and see how stable your estimates are)\n",
    "ratio = np.zeros((num_samples,1)) # initialize and preallocate (makes code run faster)"
   ]
  },
  {
   "cell_type": "code",
   "execution_count": 56,
   "metadata": {},
   "outputs": [],
   "source": [
    "# Let's define our groups\n",
    "A1 = np.ones((num_aspirin_ha,1)) # we code those who had a heart attack with a 1\n",
    "A2 = np.zeros((num_aspirin - num_aspirin_ha,1)) # aspirin takers who did not have a heart attack\n",
    "P1 = np.ones((num_placebo_ha,1)) # same for placebo\n",
    "P2 = np.zeros((num_placebo - num_placebo_ha,1)) # same "
   ]
  },
  {
   "cell_type": "code",
   "execution_count": 57,
   "metadata": {},
   "outputs": [],
   "source": [
    "# Stack your vectors of aspirin and placebo groups\n",
    "A = np.concatenate([A1,A2]) \n",
    "P = np.concatenate([P1,P2])"
   ]
  },
  {
   "cell_type": "markdown",
   "metadata": {},
   "source": [
    "Here is where the magic takes place. We're going to simulate the same experiment a total of num_samples times by randomly resampling with replacement, thereby creating the distribution of sample means (Question: Do we expect a normal distribution? Why or why not?)"
   ]
  },
  {
   "cell_type": "code",
   "execution_count": 63,
   "metadata": {},
   "outputs": [],
   "source": [
    "for sample in np.arange(num_samples):\n",
    "    \n",
    "    indices_A = np.random.randint(num_aspirin, size=num_aspirin)\n",
    "    indices_P = np.random.randint(num_placebo, size=num_placebo)\n",
    "    ratio[sample] = np.sum(A[indices_A])/np.sum(P[indices_P])\n",
    "       "
   ]
  },
  {
   "cell_type": "markdown",
   "metadata": {},
   "source": [
    "Now that we have a bootstrapped distribution, let's calculate 95% CIs."
   ]
  },
  {
   "cell_type": "code",
   "execution_count": 99,
   "metadata": {},
   "outputs": [],
   "source": [
    "# First step: sort values\n",
    "lb_pctl = 2.5 # define percentile boundaries\n",
    "ub_pctl = 97.5\n",
    "sorted_ratio = np.sort(ratio, axis=None)\n",
    "lb_idx = int(np.round(num_samples/100*lb_pctl))\n",
    "ub_idx = int(np.round(num_samples/100*ub_pctl))\n",
    "lb = sorted_ratio[lb_idx]\n",
    "ub = sorted_ratio[ub_idx]"
   ]
  },
  {
   "cell_type": "code",
   "execution_count": 111,
   "metadata": {},
   "outputs": [
    {
     "data": {
      "text/plain": [
       "Text(0.5,1,'Bootstrapped distribution of HA ratios (Aspirin/Placebo)')"
      ]
     },
     "execution_count": 111,
     "metadata": {},
     "output_type": "execute_result"
    },
    {
     "data": {
      "image/png": "[encoded data removed]",
      "text/plain": [
       "<Figure size 432x288 with 1 Axes>"
      ]
     },
     "metadata": {
      "needs_background": "light"
     },
     "output_type": "display_data"
    }
   ],
   "source": [
    "# Plot histogram\n",
    "num_bins = 50\n",
    "plt.hist(ratio, num_bins)\n",
    "plt.axvline(x=lb, color='black')\n",
    "plt.axvline(x=ub, color='black')\n",
    "plt.axvline(x=np.mean(ratio), color='black', linestyle='--')\n",
    "plt.xlabel('Ratio')\n",
    "plt.ylabel('Frequency')\n",
    "plt.title('Bootstrapped distribution of HA ratios (Aspirin/Placebo)')\n"
   ]
  },
  {
   "cell_type": "markdown",
   "metadata": {},
   "source": [
    "What are other times you would use bootstrapping? It's great for estimating CIs because it makes no assumptions about the distribution of the data (ie, you can get reliable bootstrapped CIs for all types of distributions--skewed, uniform, whatever). Why? think Central Limit Theorem. You can apply this idea to statistical tests as well,\n",
    "especially when your data are non-normally distributed. We'll next go over non-parametric permutation tests, which won't seem as abstract now that you understand the basic idea of resampling."
   ]
  },
  {
   "cell_type": "code",
   "execution_count": null,
   "metadata": {},
   "outputs": [],
   "source": []
  }
 ],
 "metadata": {
  "kernelspec": {
   "display_name": "Python 3",
   "language": "python",
   "name": "python3"
  },
  "language_info": {
   "codemirror_mode": {
    "name": "ipython",
    "version": 3
   },
   "file_extension": ".py",
   "mimetype": "text/x-python",
   "name": "python",
   "nbconvert_exporter": "python",
   "pygments_lexer": "ipython3",
   "version": "3.7.3"
  }
 },
 "nbformat": 4,
 "nbformat_minor": 2
}
